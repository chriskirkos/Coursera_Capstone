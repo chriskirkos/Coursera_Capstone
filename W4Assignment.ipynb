{
 "cells": [
  {
   "cell_type": "markdown",
   "metadata": {},
   "source": [
    "<h4>Coursera Capstone</h4>\n",
    "<h3>Opening a new Japanese Restaurant in Toronto</h3>\n",
    "\n",
    "<h3>INTRODUCTION</h3>\n",
    "\n",
    "We are looking to open a new Japanese Restaurant in Toronto. In order to maximize our investment and draw in the largest volume of patrons, we need to determine the ideal location for the new restaurant.\n",
    "<br>\n",
    "We will present a visual analysis of the ideal location, based on multiple factors, including current Japanese restaurants and neighbourhood populations, to solve this problem.\n",
    "<br>\n",
    "<h3>BUSINESS PROBLEM</h3>\n",
    "\n",
    "What is the best neighbourhood to locate the new restaurant in?<br>\n",
    "What is the best theoretical latitude and longitude to locate the new restaurant?\n",
    "<br>\n",
    "<h3>DATA SOURCES</h3>\n",
    "\n",
    "We will use the following sources for our data. We clean and extract the necessary data to lead us to the correct decision based on the Business Problem.\n",
    "<br><br>\n",
    "<h4>Wikipedia</h4>\n",
    "\n",
    "As we are working in Toronto, we will be using the same source of Postal Codes in Canada as the Week 3 assignment. This will give us the Postal Codes that begin with M, all of which are for Toronto.\n",
    "<br><br>\n",
    "URL: https://en.wikipedia.org/wiki/List_of_postal_codes_of_Canada:_M\n",
    "<br><br>\n",
    "<h4>Statistics Canada (StatsCan)</h4>\n",
    "\n",
    "The following spreadsheet provides information of population count based on the postal code of communities across the country. We clean the data to only extract the postal codes that exist in Toronto.\n",
    "<br><br>\n",
    "<b>'Statistics Canada. 2017. Population and dwelling counts, for Canada and forward sortation areas© as reported by the respondents, 2016 Census (table). Population and Dwelling Count Highlight Tables. 2016 Census.'</b>\n",
    "<br><br>\n",
    "URL: https://www12.statcan.gc.ca/census-recensement/2016/dp-pd/hlt-fst/pd-pl/Table.cfm?Lang=Eng&T=1201&S=22&O=A\n",
    "<br><br>\n",
    "This data will be used to show whether there is an adequate population in a neighborhood in order to support the restaurant. We would ideally like to find the highest density neighborhood of Toronto, however this must also be cross-referenced with data from FourSquare (see below) which will show where existing Japanese restaurants are.\n",
    "<br><br>\n",
    "The assumption we have here is that a neighborhood that already has a high-density of similar restaurants as this shows that there is likely demand for these restaurants. It is also said that this competition will help the entire market thrive, so we will use this business rule as a basis for the hypothesis as well. \n",
    "<br><br>\n",
    "We are also looking at neighbourhood populations to ensure that there is a good balance of higher populations that would presumably go to these restaurants. Thus, we are making the assumption that the people who travel to these restaurants are likely within the same neighbourhood, or likely in a neighbouring one in which the population won't vary widely.\n",
    "<br><br>\n",
    "<h4>FourSquare</h4>\n",
    "\n",
    "We will use the FourSquare Developer API in order to pull a wide range of data. We will use the free developer account to pull requests for:\n",
    "<br><br>\n",
    "Neighborhood Names<br>\n",
    "Neighborhood Latitude<br>\n",
    "Neighborhood Longitude<br>\n",
    "<br><br>\n",
    "Unique Venue Categories<br><br>\n",
    "This is a list of all the different types of venues that FourSquare has data for. We then narrow down the data to include only Japanese and Japanese-style restaurants—Ramen Restaurant, Japanese Restaurant, Sushi Restaurant, Noodle House, Sake Bar.\n",
    "<br><br>\n",
    "This data is crucial in determining the number of restaurants in each neighborhood, which we can then cross-reference to the population data from the StatsCan information above. From here, we are able to determine the best location based on existing restaurants (using the same assumptions noted in the StatsCan source) and population density.\n",
    "<br><br>\n",
    "<h3>NOTES</h3>\n",
    "\n",
    "When determining the best latitude and longitude for the new restaurant, we must understand that this latitude and longitude may actually be in a road, someone’s home, or a park, but this be as close as possible to the theoretical best location, whereby we can then find the closest ideal location available for rent or lease. For the purposes of this assignment, we are not determining the best exact possible actual address, as rental/lease availability, price, and dozens of other factors mean that this changes on a too frequent basis to be valid or relevant for these purposes.\n"
   ]
  },
  {
   "cell_type": "code",
   "execution_count": null,
   "metadata": {},
   "outputs": [],
   "source": []
  }
 ],
 "metadata": {
  "kernelspec": {
   "display_name": "Python 3",
   "language": "python",
   "name": "python3"
  },
  "language_info": {
   "codemirror_mode": {
    "name": "ipython",
    "version": 3
   },
   "file_extension": ".py",
   "mimetype": "text/x-python",
   "name": "python",
   "nbconvert_exporter": "python",
   "pygments_lexer": "ipython3",
   "version": "3.8.5"
  }
 },
 "nbformat": 4,
 "nbformat_minor": 4
}
